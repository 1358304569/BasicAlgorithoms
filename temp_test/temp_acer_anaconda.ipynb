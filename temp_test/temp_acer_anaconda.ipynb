{
 "cells": [
  {
   "cell_type": "code",
   "execution_count": null,
   "metadata": {},
   "outputs": [],
   "source": [
    "# ==========================1. 时间间隔（天，星期，月）================================="
   ]
  },
  {
   "cell_type": "code",
   "execution_count": 9,
   "metadata": {},
   "outputs": [
    {
     "data": {
      "text/plain": [
       "datetime.datetime(2019, 6, 15, 15, 41, 9, 97889)"
      ]
     },
     "execution_count": 9,
     "metadata": {},
     "output_type": "execute_result"
    }
   ],
   "source": [
    "import datetime\n",
    "timeNow = datetime.datetime.now()\n",
    "timeNow"
   ]
  },
  {
   "cell_type": "code",
   "execution_count": 19,
   "metadata": {},
   "outputs": [
    {
     "data": {
      "text/plain": [
       "'2019-06-15 15:41:09'"
      ]
     },
     "execution_count": 19,
     "metadata": {},
     "output_type": "execute_result"
    }
   ],
   "source": [
    "timeFmt = timeNow.strftime(\"%Y-%m-%d %H:%M:%S\")\n",
    "timeFmt"
   ]
  },
  {
   "cell_type": "code",
   "execution_count": 27,
   "metadata": {},
   "outputs": [
    {
     "data": {
      "text/plain": [
       "573"
      ]
     },
     "execution_count": 27,
     "metadata": {},
     "output_type": "execute_result"
    }
   ],
   "source": [
    "buyDay = datetime.datetime(2017, 11, 11)\n",
    "brokenDay = datetime.datetime(2019, 6, 7)\n",
    "userDays = (brokenDay - buyDay).days\n",
    "userDays\n",
    "\n",
    "# 'datetime.timedelta' object has no attribute 'months'\n",
    "# userMons = (brokenDay - buyDay).months\n",
    "# useMons"
   ]
  },
  {
   "cell_type": "code",
   "execution_count": 31,
   "metadata": {},
   "outputs": [
    {
     "data": {
      "text/plain": [
       "574"
      ]
     },
     "execution_count": 31,
     "metadata": {},
     "output_type": "execute_result"
    }
   ],
   "source": [
    "from dateutil import rrule\n",
    "Days = rrule.rrule(rrule.DAILY, dtstart=buyDay, until=brokenDay)\n",
    "Days    # <dateutil.rrule.rrule at 0xc570e052b0>\n",
    "useDays = Days.count()\n",
    "useDays  # 574"
   ]
  },
  {
   "cell_type": "code",
   "execution_count": 32,
   "metadata": {},
   "outputs": [
    {
     "data": {
      "text/plain": [
       "19"
      ]
     },
     "execution_count": 32,
     "metadata": {},
     "output_type": "execute_result"
    }
   ],
   "source": [
    "useMons = rrule.rrule(rrule.MONTHLY, dtstart=buyDay, until=brokenDay).count()\n",
    "useMons"
   ]
  }
 ],
 "metadata": {
  "kernelspec": {
   "display_name": "Python 3",
   "language": "python",
   "name": "python3"
  },
  "language_info": {
   "codemirror_mode": {
    "name": "ipython",
    "version": 3
   },
   "file_extension": ".py",
   "mimetype": "text/x-python",
   "name": "python",
   "nbconvert_exporter": "python",
   "pygments_lexer": "ipython3",
   "version": "3.6.4"
  }
 },
 "nbformat": 4,
 "nbformat_minor": 2
}
